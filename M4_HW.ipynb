{
 "cells": [
  {
   "cell_type": "markdown",
   "metadata": {},
   "source": [
    "<p style=\"align: center;\"><img align=center src=\"https://mailfit.com/wp-content/uploads/2019/11/lego-5.png\"  width=900></p>\n",
    "<h1 style=\"text-align: center;\"><b>«Домашняя работа»</b></h3>\n"
   ]
  },
  {
   "cell_type": "markdown",
   "metadata": {},
   "source": [
    "## Импорт Библиотек"
   ]
  },
  {
   "cell_type": "code",
   "execution_count": 1,
   "metadata": {
    "ExecuteTime": {
     "end_time": "2023-05-20T12:27:48.080260699Z",
     "start_time": "2023-05-20T12:27:48.076609761Z"
    }
   },
   "outputs": [],
   "source": [
    "import numpy as np\n",
    "import pandas as pd\n",
    "\n",
    "import scipy\n",
    "\n",
    "import matplotlib.pyplot as plt\n",
    "import seaborn as sns\n",
    "\n",
    "sns.set_theme()"
   ]
  },
  {
   "cell_type": "markdown",
   "metadata": {},
   "source": [
    "## Импорт данных"
   ]
  },
  {
   "cell_type": "code",
   "execution_count": 16,
   "metadata": {
    "ExecuteTime": {
     "end_time": "2023-05-20T12:57:10.168187854Z",
     "start_time": "2023-05-20T12:57:09.673460541Z"
    }
   },
   "outputs": [
    {
     "name": "stdout",
     "output_type": "stream",
     "text": [
      "Размеры датасета (6000, 9)\n"
     ]
    },
    {
     "data": {
      "text/plain": "    was_married  children        salary  sex   age     profession   \nid                                                                  \n0             1       4.0  4.420530e+07    1  82.0       Engineer  \\\n1             1       2.0  1.737490e+08    1  32.0         Doctor   \n2             1       6.0  2.489055e+08    1  14.0  Entertainment   \n3             0       1.0  1.268718e+08    0  10.0         Lawyer   \n4             1       9.0  8.596042e+07    1  99.0         Artist   \n5             1       3.0  2.474979e+06    0  21.0      Homemaker   \n\n       home_cost  drive_info  happyness  \nid                                       \n0   1.003674e+07         NaN   0.727499  \n1   1.014051e+07         0.0   0.383234  \n2   1.043318e+07         NaN   0.432142  \n3   1.004299e+07         NaN   0.377987  \n4   1.021908e+07         NaN   0.657579  \n5   1.001654e+07         1.0   0.326801  ",
      "text/html": "<div>\n<style scoped>\n    .dataframe tbody tr th:only-of-type {\n        vertical-align: middle;\n    }\n\n    .dataframe tbody tr th {\n        vertical-align: top;\n    }\n\n    .dataframe thead th {\n        text-align: right;\n    }\n</style>\n<table border=\"1\" class=\"dataframe\">\n  <thead>\n    <tr style=\"text-align: right;\">\n      <th></th>\n      <th>was_married</th>\n      <th>children</th>\n      <th>salary</th>\n      <th>sex</th>\n      <th>age</th>\n      <th>profession</th>\n      <th>home_cost</th>\n      <th>drive_info</th>\n      <th>happyness</th>\n    </tr>\n    <tr>\n      <th>id</th>\n      <th></th>\n      <th></th>\n      <th></th>\n      <th></th>\n      <th></th>\n      <th></th>\n      <th></th>\n      <th></th>\n      <th></th>\n    </tr>\n  </thead>\n  <tbody>\n    <tr>\n      <th>0</th>\n      <td>1</td>\n      <td>4.0</td>\n      <td>4.420530e+07</td>\n      <td>1</td>\n      <td>82.0</td>\n      <td>Engineer</td>\n      <td>1.003674e+07</td>\n      <td>NaN</td>\n      <td>0.727499</td>\n    </tr>\n    <tr>\n      <th>1</th>\n      <td>1</td>\n      <td>2.0</td>\n      <td>1.737490e+08</td>\n      <td>1</td>\n      <td>32.0</td>\n      <td>Doctor</td>\n      <td>1.014051e+07</td>\n      <td>0.0</td>\n      <td>0.383234</td>\n    </tr>\n    <tr>\n      <th>2</th>\n      <td>1</td>\n      <td>6.0</td>\n      <td>2.489055e+08</td>\n      <td>1</td>\n      <td>14.0</td>\n      <td>Entertainment</td>\n      <td>1.043318e+07</td>\n      <td>NaN</td>\n      <td>0.432142</td>\n    </tr>\n    <tr>\n      <th>3</th>\n      <td>0</td>\n      <td>1.0</td>\n      <td>1.268718e+08</td>\n      <td>0</td>\n      <td>10.0</td>\n      <td>Lawyer</td>\n      <td>1.004299e+07</td>\n      <td>NaN</td>\n      <td>0.377987</td>\n    </tr>\n    <tr>\n      <th>4</th>\n      <td>1</td>\n      <td>9.0</td>\n      <td>8.596042e+07</td>\n      <td>1</td>\n      <td>99.0</td>\n      <td>Artist</td>\n      <td>1.021908e+07</td>\n      <td>NaN</td>\n      <td>0.657579</td>\n    </tr>\n    <tr>\n      <th>5</th>\n      <td>1</td>\n      <td>3.0</td>\n      <td>2.474979e+06</td>\n      <td>0</td>\n      <td>21.0</td>\n      <td>Homemaker</td>\n      <td>1.001654e+07</td>\n      <td>1.0</td>\n      <td>0.326801</td>\n    </tr>\n  </tbody>\n</table>\n</div>"
     },
     "execution_count": 16,
     "metadata": {},
     "output_type": "execute_result"
    }
   ],
   "source": [
    "data_path = \"https://raw.githubusercontent.com/a-milenkin/mipt_data_science_2021/main/data/people_data_clustering.csv\"\n",
    "data = pd.read_csv(data_path, index_col=0)\n",
    "print(\"Размеры датасета\", data.shape)\n",
    "data.head(6)"
   ]
  },
  {
   "cell_type": "markdown",
   "metadata": {},
   "source": [
    "<div class=\"alert alert-info\">\n",
    "<b>Про Датасет</b>\n",
    "    \n",
    "Датасет представляет собой информацию по жителям некоторого города.\n",
    "\n",
    "* `was_married` - Был ли когда-либо женат/замужем\n",
    "* `children` - Количество детей\n",
    "* `salary` - Уровень зарплаты\n",
    "* `sex` - Пол (0 - женщина, 1 - мужчина)\n",
    "* `age` - Возраст\n",
    "* `home_cost` - Сумарная стоимость жилья/недвижимости\n",
    "* `Professon` - Профессия\n",
    "* `drive_info` - Есть ли водительские права\n",
    "* `happyness` - уровень счастья по результатам опроса\n",
    "    \n",
    "</div>"
   ]
  },
  {
   "cell_type": "markdown",
   "metadata": {},
   "source": [
    "<div class=\"alert alert-info\">\n",
    "<b>Задание</b>\n",
    "\n",
    "Изучить датасет, выполнить задания и проверить некоторые гипотезы, предложенные ниже, используя только визуализацию."
   ]
  },
  {
   "cell_type": "markdown",
   "metadata": {},
   "source": [
    "# Чистка датасета\n",
    "* Есть ли дубли в данных? Если есть - удалите их (drop_duplicates). \n",
    "* Найти и удалить/отфильтровать выбросы по признаку `home_cost`. Таких точек около 5"
   ]
  },
  {
   "cell_type": "code",
   "execution_count": 18,
   "metadata": {
    "ExecuteTime": {
     "end_time": "2023-05-20T12:58:21.025173097Z",
     "start_time": "2023-05-20T12:58:20.979879239Z"
    }
   },
   "outputs": [
    {
     "name": "stdout",
     "output_type": "stream",
     "text": [
      "Размеры датасета: (6000, 9)\n",
      "Количество дубликатов: 0\n",
      "Размеры датасета после удаления дубликатов: (6000, 9)\n"
     ]
    }
   ],
   "source": [
    "# Вывод размеров датасета\n",
    "print(\"Размеры датасета:\", data.shape)\n",
    "\n",
    "# Проверка наличия дубликатов\n",
    "duplicates = data.duplicated()\n",
    "print(\"Количество дубликатов:\", duplicates.sum())\n",
    "\n",
    "# Удаление дубликатов\n",
    "data = data.drop_duplicates()\n",
    "print(\"Размеры датасета после удаления дубликатов:\", data.shape)"
   ]
  },
  {
   "cell_type": "code",
   "execution_count": 20,
   "outputs": [
    {
     "data": {
      "text/plain": "<Figure size 800x600 with 1 Axes>",
      "image/png": "[encoded data removed]"
     },
     "metadata": {},
     "output_type": "display_data"
    },
    {
     "data": {
      "text/plain": "<Figure size 800x600 with 1 Axes>",
      "image/png": "[encoded data removed]"
     },
     "metadata": {},
     "output_type": "display_data"
    }
   ],
   "source": [
    "# Гистограмма распределения home_cost\n",
    "plt.figure(figsize=(8, 6))\n",
    "sns.histplot(data=data, x='home_cost', kde=True)\n",
    "plt.title('Распределение home_cost')\n",
    "plt.xlabel('home_cost')\n",
    "plt.ylabel('Частота')\n",
    "plt.show()\n",
    "\n",
    "# Ящик с усами для home_cost\n",
    "plt.figure(figsize=(8, 6))\n",
    "sns.boxplot(data=data, x='home_cost')\n",
    "plt.title('Ящик с усами для home_cost')\n",
    "plt.xlabel('home_cost')\n",
    "plt.show()"
   ],
   "metadata": {
    "collapsed": false,
    "ExecuteTime": {
     "end_time": "2023-05-20T13:01:38.062188219Z",
     "start_time": "2023-05-20T13:01:37.217475236Z"
    }
   }
  },
  {
   "cell_type": "code",
   "execution_count": 23,
   "outputs": [
    {
     "name": "stdout",
     "output_type": "stream",
     "text": [
      "Размеры датасета после удаления выбросов: (5987, 9)\n"
     ]
    },
    {
     "data": {
      "text/plain": "<Figure size 800x600 with 1 Axes>",
      "image/png": "[encoded data removed]"
     },
     "metadata": {},
     "output_type": "display_data"
    }
   ],
   "source": [
    "# Определение границ выбросов\n",
    "Q1 = data['home_cost'].quantile(0.25)\n",
    "Q3 = data['home_cost'].quantile(0.75)\n",
    "IQR = Q3 - Q1\n",
    "lower_bound = Q1 - 1.5 * IQR\n",
    "upper_bound = Q3 + 1.5 * IQR\n",
    "\n",
    "# Фильтрация выбросов\n",
    "filtered_data = data[(data['home_cost'] >= lower_bound) & (data['home_cost'] <= upper_bound)]\n",
    "\n",
    "print(\"Размеры датасета после удаления выбросов:\", filtered_data.shape)\n",
    "\n",
    "# Ящик с усами для home_cost\n",
    "plt.figure(figsize=(8, 6))\n",
    "sns.boxplot(data=filtered_data, x='home_cost')\n",
    "plt.title('Ящик с усами для home_cost')\n",
    "plt.xlabel('home_cost')\n",
    "plt.show()"
   ],
   "metadata": {
    "collapsed": false,
    "ExecuteTime": {
     "end_time": "2023-05-20T13:02:36.669709898Z",
     "start_time": "2023-05-20T13:02:36.537356435Z"
    }
   }
  },
  {
   "cell_type": "markdown",
   "metadata": {},
   "source": [
    "# Проверка гипотез"
   ]
  },
  {
   "cell_type": "markdown",
   "metadata": {},
   "source": [
    "# Изучение датасета \n",
    "* Какие признаки численные?\n",
    "* Какие признаки категориальные?\n",
    "* Какие признаки имеют нормальное распределение?\n",
    "* Какие признаки бессмысленные?"
   ]
  },
  {
   "cell_type": "markdown",
   "metadata": {},
   "source": [
    "<div class=\"alert alert-info\">\n",
    "    \n",
    "Перед вами те же гипотезы, которые были в прошлом домашнем задании. Вы уже научились проверять эти утверждения визуально. Теперь же, помимо визуальной состовляющей вам еще нужно применить подходящий статистический критерий, чтобы окончательно доказать или опровергнуть гипотезы на снове этих данных. В качестве уровня значимости принять 5%"
   ]
  },
  {
   "cell_type": "code",
   "execution_count": 33,
   "outputs": [],
   "source": [
    "def t_test(group1, group2):\n",
    "    import scipy.stats as stats\n",
    "\n",
    "    # Проведение t-теста\n",
    "    t_statistic, p_value = stats.ttest_ind(group1, group2)\n",
    "\n",
    "    alpha = 0.05  # Уровень значимости\n",
    "\n",
    "    if p_value < alpha:\n",
    "        conclusion = \"Отвергаем нулевую гипотезу\"\n",
    "    else:\n",
    "        conclusion = \"Не отвергаем нулевую гипотезу\"\n",
    "\n",
    "    print(\"Результаты t-теста:\")\n",
    "    print(\"t-статистика:\", t_statistic)\n",
    "    print(\"p-значение:\", p_value)\n",
    "    print(conclusion)"
   ],
   "metadata": {
    "collapsed": false,
    "ExecuteTime": {
     "end_time": "2023-05-20T13:11:54.808862446Z",
     "start_time": "2023-05-20T13:11:54.802272831Z"
    }
   }
  },
  {
   "cell_type": "markdown",
   "metadata": {},
   "source": [
    "* Правда ли женщины в среднем имеют более высокую зарплату, чем мужчины?"
   ]
  },
  {
   "cell_type": "code",
   "execution_count": 34,
   "metadata": {
    "ExecuteTime": {
     "end_time": "2023-05-20T13:11:56.284353561Z",
     "start_time": "2023-05-20T13:11:56.277655876Z"
    }
   },
   "outputs": [
    {
     "name": "stdout",
     "output_type": "stream",
     "text": [
      "Результаты t-теста:\n",
      "t-статистика: 19.120734501379925\n",
      "p-значение: 3.7404230251868476e-79\n",
      "Отвергаем нулевую гипотезу\n"
     ]
    }
   ],
   "source": [
    "# Разделение данных на две группы по полу\n",
    "male_salaries = filtered_data[filtered_data['sex'] == 1]['salary']\n",
    "female_salaries = filtered_data[filtered_data['sex'] == 0]['salary']\n",
    "\n",
    "t_test(male_salaries, female_salaries)"
   ]
  },
  {
   "cell_type": "markdown",
   "metadata": {},
   "source": [
    "* Правда ли, что инженеры (Engineer) зарабатывают в среднем больше, чем люди из сферы развлечений (Entertainment)?"
   ]
  },
  {
   "cell_type": "code",
   "execution_count": 36,
   "metadata": {
    "ExecuteTime": {
     "end_time": "2023-05-20T13:12:12.885722148Z",
     "start_time": "2023-05-20T13:12:12.878372948Z"
    }
   },
   "outputs": [
    {
     "name": "stdout",
     "output_type": "stream",
     "text": [
      "Результаты t-теста:\n",
      "t-статистика: -100.1518525116712\n",
      "p-значение: 0.0\n",
      "Отвергаем нулевую гипотезу\n"
     ]
    }
   ],
   "source": [
    "# Разделение данных на две группы по профессии\n",
    "engineer_salaries = filtered_data[filtered_data['profession'] == 'Engineer']['salary']\n",
    "entertainment_salaries = filtered_data[filtered_data['profession'] == 'Entertainment']['salary']\n",
    "\n",
    "t_test(engineer_salaries, entertainment_salaries)"
   ]
  },
  {
   "cell_type": "markdown",
   "metadata": {},
   "source": [
    "* Правда ли, что те, у кого больше трех детей зарабатывают в среднем больше, чем те, у кого меньше или трое детей?"
   ]
  },
  {
   "cell_type": "code",
   "execution_count": 37,
   "metadata": {
    "ExecuteTime": {
     "end_time": "2023-05-20T13:13:12.980896769Z",
     "start_time": "2023-05-20T13:13:12.939545781Z"
    }
   },
   "outputs": [
    {
     "name": "stdout",
     "output_type": "stream",
     "text": [
      "Результаты t-теста:\n",
      "t-статистика: 24.713318726825975\n",
      "p-значение: 1.7626205893564625e-128\n",
      "Отвергаем нулевую гипотезу\n"
     ]
    }
   ],
   "source": [
    "# Разделение данных на две группы по количеству детей\n",
    "more_than_3_children_salaries = filtered_data[filtered_data['children'] > 3]['salary']\n",
    "less_or_equal_3_children_salaries = filtered_data[filtered_data['children'] <= 3]['salary']\n",
    "\n",
    "t_test(more_than_3_children_salaries, less_or_equal_3_children_salaries)"
   ]
  },
  {
   "cell_type": "markdown",
   "metadata": {},
   "source": [
    "* Правда ли, что дома художники (Artist) живут в домах, которые в среднем дороже или дешевле, чем дома адвокатов (Lawyer)?"
   ]
  },
  {
   "cell_type": "code",
   "execution_count": 39,
   "metadata": {
    "ExecuteTime": {
     "end_time": "2023-05-20T13:15:10.857085096Z",
     "start_time": "2023-05-20T13:15:10.815565147Z"
    }
   },
   "outputs": [
    {
     "name": "stdout",
     "output_type": "stream",
     "text": [
      "Результаты t-теста:\n",
      "t-статистика: -10.312443126358874\n",
      "p-значение: 4.808361776839644e-24\n",
      "Отвергаем нулевую гипотезу\n"
     ]
    }
   ],
   "source": [
    "# Разделение данных на две группы по профессии\n",
    "artist_home_costs = filtered_data[filtered_data['profession'] == 'Artist']['home_cost']\n",
    "lawyer_home_costs = filtered_data[filtered_data['profession'] == 'Lawyer']['home_cost']\n",
    "\n",
    "t_test(artist_home_costs, lawyer_home_costs)"
   ]
  },
  {
   "cell_type": "markdown",
   "metadata": {},
   "source": [
    "* Правда ли, что недвижимость у тех, кто когда либо был в браке в среднем дороже, чем у тех, кто никогда не был в браке?\n"
   ]
  },
  {
   "cell_type": "code",
   "execution_count": 40,
   "metadata": {
    "ExecuteTime": {
     "end_time": "2023-05-20T13:16:17.216791889Z",
     "start_time": "2023-05-20T13:16:17.172934900Z"
    }
   },
   "outputs": [
    {
     "name": "stdout",
     "output_type": "stream",
     "text": [
      "Результаты t-теста:\n",
      "t-статистика: -27.941160137149474\n",
      "p-значение: 1.360651636221332e-161\n",
      "Отвергаем нулевую гипотезу\n"
     ]
    }
   ],
   "source": [
    "# Разделение данных на две группы по наличию брака\n",
    "married_home_costs = filtered_data[filtered_data['was_married'] == 1]['home_cost']\n",
    "not_married_home_costs = filtered_data[filtered_data['was_married'] == 0]['home_cost']\n",
    "\n",
    "t_test(married_home_costs, not_married_home_costs)"
   ]
  },
  {
   "cell_type": "markdown",
   "metadata": {},
   "source": [
    "* Правда ли, что мужчины в среднем чаще бывают в браке, чем женщины?\n",
    "\n",
    "**Подсказка** - Составьте матрицу смежности и воспользуйтесь критерием хи-квадрат из библиотеки scipy"
   ]
  },
  {
   "cell_type": "code",
   "execution_count": 48,
   "metadata": {
    "ExecuteTime": {
     "end_time": "2023-05-20T13:22:23.908797564Z",
     "start_time": "2023-05-20T13:22:23.861732710Z"
    }
   },
   "outputs": [
    {
     "name": "stdout",
     "output_type": "stream",
     "text": [
      "Результаты анализа долей:\n",
      "Доля брака у мужчин: 0.9301210898082745\n",
      "Доля брака у женщин: 0.6697973306969847\n",
      "Доверительный интервал для доли брака у мужчин: (0.9221846801741234, 0.9380574994424256)\n",
      "Доверительный интервал для доли брака у женщин: (0.6493040189945092, 0.6902906423994601)\n",
      "Отвергаем нулевую гипотезу\n"
     ]
    }
   ],
   "source": [
    "from statsmodels.stats.proportion import proportion_confint\n",
    "\n",
    "# Разделение данных на две группы по полу\n",
    "male_married = filtered_data[(filtered_data['sex'] == 1) & (filtered_data['was_married'] == 1)]\n",
    "female_married = filtered_data[(filtered_data['sex'] == 0) & (filtered_data['was_married'] == 1)]\n",
    "\n",
    "# Вычисление доли брака для каждой группы\n",
    "male_married_proportion = len(male_married) / len(filtered_data[filtered_data['sex'] == 1])\n",
    "female_married_proportion = len(female_married) / len(filtered_data[filtered_data['sex'] == 0])\n",
    "\n",
    "# Вычисление доверительных интервалов для долей\n",
    "male_confint = proportion_confint(len(male_married), len(filtered_data[filtered_data['sex'] == 1]), alpha=0.05,\n",
    "                                  method='normal')\n",
    "female_confint = proportion_confint(len(female_married), len(filtered_data[filtered_data['sex'] == 0]), alpha=0.05,\n",
    "                                    method='normal')\n",
    "\n",
    "# Проверка статистической значимости различия в долях\n",
    "if male_confint[0] > female_confint[1] or male_confint[1] < female_confint[0]:\n",
    "    conclusion = \"Отвергаем нулевую гипотезу\"\n",
    "else:\n",
    "    conclusion = \"Не отвергаем нулевую гипотезу\"\n",
    "\n",
    "print(\"Результаты анализа долей:\")\n",
    "print(\"Доля брака у мужчин:\", male_married_proportion)\n",
    "print(\"Доля брака у женщин:\", female_married_proportion)\n",
    "print(\"Доверительный интервал для доли брака у мужчин:\", male_confint)\n",
    "print(\"Доверительный интервал для доли брака у женщин:\", female_confint)\n",
    "print(conclusion)"
   ]
  },
  {
   "cell_type": "markdown",
   "metadata": {},
   "source": [
    "Правда ли, что женщины с зарплатой выше медианной в среднем более счастливые, чем мужчины с зарплатой, которая выше средней?"
   ]
  },
  {
   "cell_type": "code",
   "execution_count": 47,
   "metadata": {
    "ExecuteTime": {
     "end_time": "2023-05-20T13:22:07.718126670Z",
     "start_time": "2023-05-20T13:22:07.678225608Z"
    }
   },
   "outputs": [
    {
     "name": "stdout",
     "output_type": "stream",
     "text": [
      "Результаты t-теста:\n",
      "t-статистика: -36.461965470429796\n",
      "p-значение: 7.1919166371584326e-236\n",
      "Отвергаем нулевую гипотезу\n"
     ]
    }
   ],
   "source": [
    "# Разделение данных на две группы по полу и зарплате\n",
    "female_above_median_salary = \\\n",
    "filtered_data[(filtered_data['sex'] == 0) & (filtered_data['salary'] > filtered_data['salary'].median())]['happyness']\n",
    "male_above_mean_salary = \\\n",
    "filtered_data[(filtered_data['sex'] == 1) & (filtered_data['salary'] > filtered_data['salary'].mean())]['happyness']\n",
    "\n",
    "t_test(female_above_median_salary, male_above_mean_salary)\n"
   ]
  }
 ],
 "metadata": {
  "kernelspec": {
   "display_name": "Python 3",
   "language": "python",
   "name": "python3"
  },
  "language_info": {
   "codemirror_mode": {
    "name": "ipython",
    "version": 3
   },
   "file_extension": ".py",
   "mimetype": "text/x-python",
   "name": "python",
   "nbconvert_exporter": "python",
   "pygments_lexer": "ipython3",
   "version": "3.8.5"
  },
  "toc": {
   "base_numbering": 1,
   "nav_menu": {},
   "number_sections": true,
   "sideBar": true,
   "skip_h1_title": false,
   "title_cell": "Table of Contents",
   "title_sidebar": "Contents",
   "toc_cell": false,
   "toc_position": {},
   "toc_section_display": true,
   "toc_window_display": false
  }
 },
 "nbformat": 4,
 "nbformat_minor": 4
}
